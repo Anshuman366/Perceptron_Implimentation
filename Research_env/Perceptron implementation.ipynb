{
 "cells": [
  {
   "cell_type": "code",
   "execution_count": 1,
   "id": "fd6e1788",
   "metadata": {},
   "outputs": [
    {
     "name": "stdout",
     "output_type": "stream",
     "text": [
      "Collecting joblib\n",
      "  Downloading joblib-1.3.2-py3-none-any.whl (302 kB)\n",
      "     ------------------------------------ 302.2/302.2 kB 548.8 kB/s eta 0:00:00\n",
      "Installing collected packages: joblib\n",
      "Successfully installed joblib-1.3.2\n"
     ]
    }
   ],
   "source": [
    "!pip install joblib\n"
   ]
  },
  {
   "cell_type": "code",
   "execution_count": 33,
   "id": "a990710d",
   "metadata": {},
   "outputs": [],
   "source": [
    "import os\n",
    "import joblib\n",
    "import matplotlib.pyplot as plt\n",
    "import numpy as np\n",
    "import pandas as pd\n",
    "\n",
    "plt.style.use(\"fivethirtyeight\")"
   ]
  },
  {
   "cell_type": "code",
   "execution_count": 79,
   "id": "e17fa812",
   "metadata": {},
   "outputs": [],
   "source": [
    "class Perceptron:\n",
    "    def __init__(self,eta: float=None, epochs: int =None):\n",
    "        self.weights=np.random.randn(3)*1e-4 ## to make weight smaller\n",
    "        self.eta=eta\n",
    "        self.epochs=epochs\n",
    "        \n",
    "    def _z_outcome(self,X,weights):\n",
    "        return np.dot(X,weights)\n",
    "    \n",
    "    def Activation_function(self,z):\n",
    "        return np.where(z>0,1,0)\n",
    "        \n",
    "    def fit(self,X,y):\n",
    "        \n",
    "        self.X=X\n",
    "        self.y=y\n",
    "        X_with_bias=np.c_[self.X,-np.ones((len(self.X),1))] ## This will Create metrix same as weight Updation metrix in notebook\n",
    "        print(f\"X with Bias is \\n{X_with_bias}\")\n",
    "        \n",
    "        for epoch in range(self.epochs):\n",
    "            z=self._z_outcome(X_with_bias,self.weights)\n",
    "            y_hat=self.Activation_function(z)\n",
    "            print(f\"predicted value after forward pass: \\n{y_hat}\")\n",
    "            \n",
    "            error=self.y-y_hat\n",
    "            print(f\"Error is \\n{error}\")\n",
    "            \n",
    "            self.weights=self.weights + self.eta * np.dot(X_with_bias.T,error)\n",
    "            print(f\"Updated Weights after epochs: {epoch+1}/{self.epochs} are \\n{self.weights}\")\n",
    "        \n",
    "    def predict(self,X):\n",
    "            X_with_bias=np.c_[X,-np.ones((len(X),1))]\n",
    "            z=self._z_outcome(X_with_bias,self.weights)\n",
    "            y_hat=self.Activation_function(z)\n",
    "            return y_hat"
   ]
  },
  {
   "cell_type": "code",
   "execution_count": 80,
   "id": "0e17aa51",
   "metadata": {},
   "outputs": [],
   "source": [
    "def Prepare_data(dataframe,target_value=\"y\"):\n",
    "    X=dataframe.drop(\"y\",axis=1)\n",
    "    y=dataframe[target_value]\n",
    "    return X,y"
   ]
  },
  {
   "cell_type": "code",
   "execution_count": 81,
   "id": "dc8745c5",
   "metadata": {},
   "outputs": [],
   "source": [
    "OR={\n",
    "    \"X1\":[1,0,0,1],\n",
    "    \"X2\":[0,1,0,1],\n",
    "    \"y\":[1,1,0,1]  \n",
    "}\n",
    "df=pd.DataFrame(OR)"
   ]
  },
  {
   "cell_type": "code",
   "execution_count": 82,
   "id": "d84a0f2f",
   "metadata": {},
   "outputs": [],
   "source": [
    "X,y=Prepare_data(df)"
   ]
  },
  {
   "cell_type": "code",
   "execution_count": 83,
   "id": "94777af8",
   "metadata": {},
   "outputs": [
    {
     "name": "stdout",
     "output_type": "stream",
     "text": [
      "X with Bias is \n",
      "[[ 1.  0. -1.]\n",
      " [ 0.  1. -1.]\n",
      " [ 0.  0. -1.]\n",
      " [ 1.  1. -1.]]\n",
      "predicted value after forward pass: \n",
      "[0 1 0 1]\n",
      "Error is \n",
      "0    1\n",
      "1    0\n",
      "2    0\n",
      "3    0\n",
      "Name: y, dtype: int64\n",
      "Updated Weights after epochs: 1/10 are \n",
      "[ 0.00993202  0.00012612 -0.00994336]\n",
      "predicted value after forward pass: \n",
      "[1 1 1 1]\n",
      "Error is \n",
      "0    0\n",
      "1    0\n",
      "2   -1\n",
      "3    0\n",
      "Name: y, dtype: int64\n",
      "Updated Weights after epochs: 2/10 are \n",
      "[9.93202218e-03 1.26117273e-04 5.66384737e-05]\n",
      "predicted value after forward pass: \n",
      "[1 1 0 1]\n",
      "Error is \n",
      "0    0\n",
      "1    0\n",
      "2    0\n",
      "3    0\n",
      "Name: y, dtype: int64\n",
      "Updated Weights after epochs: 3/10 are \n",
      "[9.93202218e-03 1.26117273e-04 5.66384737e-05]\n",
      "predicted value after forward pass: \n",
      "[1 1 0 1]\n",
      "Error is \n",
      "0    0\n",
      "1    0\n",
      "2    0\n",
      "3    0\n",
      "Name: y, dtype: int64\n",
      "Updated Weights after epochs: 4/10 are \n",
      "[9.93202218e-03 1.26117273e-04 5.66384737e-05]\n",
      "predicted value after forward pass: \n",
      "[1 1 0 1]\n",
      "Error is \n",
      "0    0\n",
      "1    0\n",
      "2    0\n",
      "3    0\n",
      "Name: y, dtype: int64\n",
      "Updated Weights after epochs: 5/10 are \n",
      "[9.93202218e-03 1.26117273e-04 5.66384737e-05]\n",
      "predicted value after forward pass: \n",
      "[1 1 0 1]\n",
      "Error is \n",
      "0    0\n",
      "1    0\n",
      "2    0\n",
      "3    0\n",
      "Name: y, dtype: int64\n",
      "Updated Weights after epochs: 6/10 are \n",
      "[9.93202218e-03 1.26117273e-04 5.66384737e-05]\n",
      "predicted value after forward pass: \n",
      "[1 1 0 1]\n",
      "Error is \n",
      "0    0\n",
      "1    0\n",
      "2    0\n",
      "3    0\n",
      "Name: y, dtype: int64\n",
      "Updated Weights after epochs: 7/10 are \n",
      "[9.93202218e-03 1.26117273e-04 5.66384737e-05]\n",
      "predicted value after forward pass: \n",
      "[1 1 0 1]\n",
      "Error is \n",
      "0    0\n",
      "1    0\n",
      "2    0\n",
      "3    0\n",
      "Name: y, dtype: int64\n",
      "Updated Weights after epochs: 8/10 are \n",
      "[9.93202218e-03 1.26117273e-04 5.66384737e-05]\n",
      "predicted value after forward pass: \n",
      "[1 1 0 1]\n",
      "Error is \n",
      "0    0\n",
      "1    0\n",
      "2    0\n",
      "3    0\n",
      "Name: y, dtype: int64\n",
      "Updated Weights after epochs: 9/10 are \n",
      "[9.93202218e-03 1.26117273e-04 5.66384737e-05]\n",
      "predicted value after forward pass: \n",
      "[1 1 0 1]\n",
      "Error is \n",
      "0    0\n",
      "1    0\n",
      "2    0\n",
      "3    0\n",
      "Name: y, dtype: int64\n",
      "Updated Weights after epochs: 10/10 are \n",
      "[9.93202218e-03 1.26117273e-04 5.66384737e-05]\n"
     ]
    }
   ],
   "source": [
    "ETA=0.01\n",
    "EPOCHS=10\n",
    "OR_prediction=Perceptron(eta=ETA,epochs=EPOCHS)\n",
    "OR_prediction.fit(X,y)"
   ]
  },
  {
   "cell_type": "code",
   "execution_count": 89,
   "id": "4a163afb",
   "metadata": {},
   "outputs": [],
   "source": [
    "or_pred=OR_prediction.predict(X=[[1,1]])"
   ]
  },
  {
   "cell_type": "code",
   "execution_count": 90,
   "id": "0e467864",
   "metadata": {},
   "outputs": [
    {
     "data": {
      "text/plain": [
       "array([1])"
      ]
     },
     "execution_count": 90,
     "metadata": {},
     "output_type": "execute_result"
    }
   ],
   "source": [
    "or_pred"
   ]
  },
  {
   "cell_type": "code",
   "execution_count": null,
   "id": "c80858f7",
   "metadata": {},
   "outputs": [],
   "source": []
  }
 ],
 "metadata": {
  "kernelspec": {
   "display_name": "Python 3 (ipykernel)",
   "language": "python",
   "name": "python3"
  },
  "language_info": {
   "codemirror_mode": {
    "name": "ipython",
    "version": 3
   },
   "file_extension": ".py",
   "mimetype": "text/x-python",
   "name": "python",
   "nbconvert_exporter": "python",
   "pygments_lexer": "ipython3",
   "version": "3.7.16"
  }
 },
 "nbformat": 4,
 "nbformat_minor": 5
}
