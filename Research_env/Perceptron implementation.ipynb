{
 "cells": [
  {
   "cell_type": "code",
   "execution_count": 1,
   "id": "e49158e1",
   "metadata": {},
   "outputs": [
    {
     "name": "stdout",
     "output_type": "stream",
     "text": [
      "Collecting joblib\n",
      "  Downloading joblib-1.3.2-py3-none-any.whl (302 kB)\n",
      "     ------------------------------------ 302.2/302.2 kB 548.8 kB/s eta 0:00:00\n",
      "Installing collected packages: joblib\n",
      "Successfully installed joblib-1.3.2\n"
     ]
    }
   ],
   "source": [
    "!pip install joblib\n"
   ]
  },
  {
   "cell_type": "code",
   "execution_count": 2,
   "id": "f45a943e",
   "metadata": {},
   "outputs": [],
   "source": [
    "import os\n",
    "import joblib\n",
    "import matplotlib.pyplot as plt\n",
    "import numpy as np\n",
    "\n",
    "plt.style.use(\"fivethirtyeight\")"
   ]
  },
  {
   "cell_type": "code",
   "execution_count": 16,
   "id": "b3367d2e",
   "metadata": {},
   "outputs": [],
   "source": [
    "class Perceptron:\n",
    "    def __init__(self,eta: float=None, epochs: int =None):\n",
    "        self.weights=np.random.randn(3)*1e-4 ## to make weight smaller\n",
    "        self.eta=eta\n",
    "        self.epochs=epochs\n",
    "        \n",
    "    def fit(self,X,y):\n",
    "        self.X=X\n",
    "        self.y=y\n",
    "        X_with_bias=np.c_[self.X,-np.ones((len(self.X),1))] ## This will Create metrix same as weight Updation metrix in notebook\n",
    "        print(f\"X with Bias is \\n{X_with_bias}\")"
   ]
  },
  {
   "cell_type": "code",
   "execution_count": 17,
   "id": "f5c2172d",
   "metadata": {},
   "outputs": [],
   "source": [
    "perceptron=Perceptron(eta=0.01,epochs=10)"
   ]
  },
  {
   "cell_type": "code",
   "execution_count": 18,
   "id": "9c740194",
   "metadata": {},
   "outputs": [
    {
     "data": {
      "text/plain": [
       "0.01"
      ]
     },
     "execution_count": 18,
     "metadata": {},
     "output_type": "execute_result"
    }
   ],
   "source": [
    "perceptron.eta"
   ]
  },
  {
   "cell_type": "code",
   "execution_count": 19,
   "id": "f175d150",
   "metadata": {},
   "outputs": [
    {
     "data": {
      "text/plain": [
       "10"
      ]
     },
     "execution_count": 19,
     "metadata": {},
     "output_type": "execute_result"
    }
   ],
   "source": [
    "perceptron.epochs"
   ]
  },
  {
   "cell_type": "code",
   "execution_count": 20,
   "id": "06d7d2f0",
   "metadata": {},
   "outputs": [],
   "source": [
    "X=np.ones((4,2))"
   ]
  },
  {
   "cell_type": "code",
   "execution_count": 21,
   "id": "fc9c33e3",
   "metadata": {},
   "outputs": [
    {
     "data": {
      "text/plain": [
       "array([[1., 1.],\n",
       "       [1., 1.],\n",
       "       [1., 1.],\n",
       "       [1., 1.]])"
      ]
     },
     "execution_count": 21,
     "metadata": {},
     "output_type": "execute_result"
    }
   ],
   "source": [
    "X"
   ]
  },
  {
   "cell_type": "code",
   "execution_count": 24,
   "id": "fba83de8",
   "metadata": {},
   "outputs": [],
   "source": [
    "y=np.ones((4,1))"
   ]
  },
  {
   "cell_type": "code",
   "execution_count": 26,
   "id": "47fb26b4",
   "metadata": {},
   "outputs": [
    {
     "name": "stdout",
     "output_type": "stream",
     "text": [
      "X with Bias is \n",
      "[[ 1.  1. -1.]\n",
      " [ 1.  1. -1.]\n",
      " [ 1.  1. -1.]\n",
      " [ 1.  1. -1.]]\n"
     ]
    }
   ],
   "source": [
    "perceptron.fit(X,y)"
   ]
  },
  {
   "cell_type": "code",
   "execution_count": null,
   "id": "32159a51",
   "metadata": {},
   "outputs": [],
   "source": []
  }
 ],
 "metadata": {
  "kernelspec": {
   "display_name": "Python 3 (ipykernel)",
   "language": "python",
   "name": "python3"
  },
  "language_info": {
   "codemirror_mode": {
    "name": "ipython",
    "version": 3
   },
   "file_extension": ".py",
   "mimetype": "text/x-python",
   "name": "python",
   "nbconvert_exporter": "python",
   "pygments_lexer": "ipython3",
   "version": "3.7.16"
  }
 },
 "nbformat": 4,
 "nbformat_minor": 5
}
